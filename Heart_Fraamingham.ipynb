{
  "nbformat": 4,
  "nbformat_minor": 0,
  "metadata": {
    "colab": {
      "name": "Heart_Fraamingham.ipynb",
      "provenance": [],
      "collapsed_sections": []
    },
    "kernelspec": {
      "name": "python3",
      "display_name": "Python 3"
    },
    "language_info": {
      "name": "python"
    }
  },
  "cells": [
    {
      "cell_type": "code",
      "execution_count": 1,
      "metadata": {
        "id": "A8Y358uTgxW8"
      },
      "outputs": [],
      "source": [
        "import pandas as pd\n",
        "import numpy as np\n",
        "import matplotlib.pyplot as plt"
      ]
    },
    {
      "cell_type": "code",
      "source": [
        "data=pd.read_csv('framingham.csv')\n",
        "data"
      ],
      "metadata": {
        "colab": {
          "base_uri": "https://localhost:8080/",
          "height": 488
        },
        "id": "m2_WIco4iEWq",
        "outputId": "51db3d0c-e5e0-4443-e731-419cadddc1a4"
      },
      "execution_count": 2,
      "outputs": [
        {
          "output_type": "execute_result",
          "data": {
            "text/plain": [
              "      male  age  education  currentSmoker  cigsPerDay  BPMeds  \\\n",
              "0        1   39        4.0              0         0.0     0.0   \n",
              "1        0   46        2.0              0         0.0     0.0   \n",
              "2        1   48        1.0              1        20.0     0.0   \n",
              "3        0   61        3.0              1        30.0     0.0   \n",
              "4        0   46        3.0              1        23.0     0.0   \n",
              "...    ...  ...        ...            ...         ...     ...   \n",
              "4235     0   48        2.0              1        20.0     NaN   \n",
              "4236     0   44        1.0              1        15.0     0.0   \n",
              "4237     0   52        2.0              0         0.0     0.0   \n",
              "4238     1   40        3.0              0         0.0     0.0   \n",
              "4239     0   39        3.0              1        30.0     0.0   \n",
              "\n",
              "      prevalentStroke  prevalentHyp  diabetes  totChol  sysBP  diaBP    BMI  \\\n",
              "0                   0             0         0    195.0  106.0   70.0  26.97   \n",
              "1                   0             0         0    250.0  121.0   81.0  28.73   \n",
              "2                   0             0         0    245.0  127.5   80.0  25.34   \n",
              "3                   0             1         0    225.0  150.0   95.0  28.58   \n",
              "4                   0             0         0    285.0  130.0   84.0  23.10   \n",
              "...               ...           ...       ...      ...    ...    ...    ...   \n",
              "4235                0             0         0    248.0  131.0   72.0  22.00   \n",
              "4236                0             0         0    210.0  126.5   87.0  19.16   \n",
              "4237                0             0         0    269.0  133.5   83.0  21.47   \n",
              "4238                0             1         0    185.0  141.0   98.0  25.60   \n",
              "4239                0             0         0    196.0  133.0   86.0  20.91   \n",
              "\n",
              "      heartRate  glucose  TenYearCHD  \n",
              "0          80.0     77.0           0  \n",
              "1          95.0     76.0           0  \n",
              "2          75.0     70.0           0  \n",
              "3          65.0    103.0           1  \n",
              "4          85.0     85.0           0  \n",
              "...         ...      ...         ...  \n",
              "4235       84.0     86.0           0  \n",
              "4236       86.0      NaN           0  \n",
              "4237       80.0    107.0           0  \n",
              "4238       67.0     72.0           0  \n",
              "4239       85.0     80.0           0  \n",
              "\n",
              "[4240 rows x 16 columns]"
            ],
            "text/html": [
              "\n",
              "  <div id=\"df-5d230226-7bfb-484a-92b7-85343732eea3\">\n",
              "    <div class=\"colab-df-container\">\n",
              "      <div>\n",
              "<style scoped>\n",
              "    .dataframe tbody tr th:only-of-type {\n",
              "        vertical-align: middle;\n",
              "    }\n",
              "\n",
              "    .dataframe tbody tr th {\n",
              "        vertical-align: top;\n",
              "    }\n",
              "\n",
              "    .dataframe thead th {\n",
              "        text-align: right;\n",
              "    }\n",
              "</style>\n",
              "<table border=\"1\" class=\"dataframe\">\n",
              "  <thead>\n",
              "    <tr style=\"text-align: right;\">\n",
              "      <th></th>\n",
              "      <th>male</th>\n",
              "      <th>age</th>\n",
              "      <th>education</th>\n",
              "      <th>currentSmoker</th>\n",
              "      <th>cigsPerDay</th>\n",
              "      <th>BPMeds</th>\n",
              "      <th>prevalentStroke</th>\n",
              "      <th>prevalentHyp</th>\n",
              "      <th>diabetes</th>\n",
              "      <th>totChol</th>\n",
              "      <th>sysBP</th>\n",
              "      <th>diaBP</th>\n",
              "      <th>BMI</th>\n",
              "      <th>heartRate</th>\n",
              "      <th>glucose</th>\n",
              "      <th>TenYearCHD</th>\n",
              "    </tr>\n",
              "  </thead>\n",
              "  <tbody>\n",
              "    <tr>\n",
              "      <th>0</th>\n",
              "      <td>1</td>\n",
              "      <td>39</td>\n",
              "      <td>4.0</td>\n",
              "      <td>0</td>\n",
              "      <td>0.0</td>\n",
              "      <td>0.0</td>\n",
              "      <td>0</td>\n",
              "      <td>0</td>\n",
              "      <td>0</td>\n",
              "      <td>195.0</td>\n",
              "      <td>106.0</td>\n",
              "      <td>70.0</td>\n",
              "      <td>26.97</td>\n",
              "      <td>80.0</td>\n",
              "      <td>77.0</td>\n",
              "      <td>0</td>\n",
              "    </tr>\n",
              "    <tr>\n",
              "      <th>1</th>\n",
              "      <td>0</td>\n",
              "      <td>46</td>\n",
              "      <td>2.0</td>\n",
              "      <td>0</td>\n",
              "      <td>0.0</td>\n",
              "      <td>0.0</td>\n",
              "      <td>0</td>\n",
              "      <td>0</td>\n",
              "      <td>0</td>\n",
              "      <td>250.0</td>\n",
              "      <td>121.0</td>\n",
              "      <td>81.0</td>\n",
              "      <td>28.73</td>\n",
              "      <td>95.0</td>\n",
              "      <td>76.0</td>\n",
              "      <td>0</td>\n",
              "    </tr>\n",
              "    <tr>\n",
              "      <th>2</th>\n",
              "      <td>1</td>\n",
              "      <td>48</td>\n",
              "      <td>1.0</td>\n",
              "      <td>1</td>\n",
              "      <td>20.0</td>\n",
              "      <td>0.0</td>\n",
              "      <td>0</td>\n",
              "      <td>0</td>\n",
              "      <td>0</td>\n",
              "      <td>245.0</td>\n",
              "      <td>127.5</td>\n",
              "      <td>80.0</td>\n",
              "      <td>25.34</td>\n",
              "      <td>75.0</td>\n",
              "      <td>70.0</td>\n",
              "      <td>0</td>\n",
              "    </tr>\n",
              "    <tr>\n",
              "      <th>3</th>\n",
              "      <td>0</td>\n",
              "      <td>61</td>\n",
              "      <td>3.0</td>\n",
              "      <td>1</td>\n",
              "      <td>30.0</td>\n",
              "      <td>0.0</td>\n",
              "      <td>0</td>\n",
              "      <td>1</td>\n",
              "      <td>0</td>\n",
              "      <td>225.0</td>\n",
              "      <td>150.0</td>\n",
              "      <td>95.0</td>\n",
              "      <td>28.58</td>\n",
              "      <td>65.0</td>\n",
              "      <td>103.0</td>\n",
              "      <td>1</td>\n",
              "    </tr>\n",
              "    <tr>\n",
              "      <th>4</th>\n",
              "      <td>0</td>\n",
              "      <td>46</td>\n",
              "      <td>3.0</td>\n",
              "      <td>1</td>\n",
              "      <td>23.0</td>\n",
              "      <td>0.0</td>\n",
              "      <td>0</td>\n",
              "      <td>0</td>\n",
              "      <td>0</td>\n",
              "      <td>285.0</td>\n",
              "      <td>130.0</td>\n",
              "      <td>84.0</td>\n",
              "      <td>23.10</td>\n",
              "      <td>85.0</td>\n",
              "      <td>85.0</td>\n",
              "      <td>0</td>\n",
              "    </tr>\n",
              "    <tr>\n",
              "      <th>...</th>\n",
              "      <td>...</td>\n",
              "      <td>...</td>\n",
              "      <td>...</td>\n",
              "      <td>...</td>\n",
              "      <td>...</td>\n",
              "      <td>...</td>\n",
              "      <td>...</td>\n",
              "      <td>...</td>\n",
              "      <td>...</td>\n",
              "      <td>...</td>\n",
              "      <td>...</td>\n",
              "      <td>...</td>\n",
              "      <td>...</td>\n",
              "      <td>...</td>\n",
              "      <td>...</td>\n",
              "      <td>...</td>\n",
              "    </tr>\n",
              "    <tr>\n",
              "      <th>4235</th>\n",
              "      <td>0</td>\n",
              "      <td>48</td>\n",
              "      <td>2.0</td>\n",
              "      <td>1</td>\n",
              "      <td>20.0</td>\n",
              "      <td>NaN</td>\n",
              "      <td>0</td>\n",
              "      <td>0</td>\n",
              "      <td>0</td>\n",
              "      <td>248.0</td>\n",
              "      <td>131.0</td>\n",
              "      <td>72.0</td>\n",
              "      <td>22.00</td>\n",
              "      <td>84.0</td>\n",
              "      <td>86.0</td>\n",
              "      <td>0</td>\n",
              "    </tr>\n",
              "    <tr>\n",
              "      <th>4236</th>\n",
              "      <td>0</td>\n",
              "      <td>44</td>\n",
              "      <td>1.0</td>\n",
              "      <td>1</td>\n",
              "      <td>15.0</td>\n",
              "      <td>0.0</td>\n",
              "      <td>0</td>\n",
              "      <td>0</td>\n",
              "      <td>0</td>\n",
              "      <td>210.0</td>\n",
              "      <td>126.5</td>\n",
              "      <td>87.0</td>\n",
              "      <td>19.16</td>\n",
              "      <td>86.0</td>\n",
              "      <td>NaN</td>\n",
              "      <td>0</td>\n",
              "    </tr>\n",
              "    <tr>\n",
              "      <th>4237</th>\n",
              "      <td>0</td>\n",
              "      <td>52</td>\n",
              "      <td>2.0</td>\n",
              "      <td>0</td>\n",
              "      <td>0.0</td>\n",
              "      <td>0.0</td>\n",
              "      <td>0</td>\n",
              "      <td>0</td>\n",
              "      <td>0</td>\n",
              "      <td>269.0</td>\n",
              "      <td>133.5</td>\n",
              "      <td>83.0</td>\n",
              "      <td>21.47</td>\n",
              "      <td>80.0</td>\n",
              "      <td>107.0</td>\n",
              "      <td>0</td>\n",
              "    </tr>\n",
              "    <tr>\n",
              "      <th>4238</th>\n",
              "      <td>1</td>\n",
              "      <td>40</td>\n",
              "      <td>3.0</td>\n",
              "      <td>0</td>\n",
              "      <td>0.0</td>\n",
              "      <td>0.0</td>\n",
              "      <td>0</td>\n",
              "      <td>1</td>\n",
              "      <td>0</td>\n",
              "      <td>185.0</td>\n",
              "      <td>141.0</td>\n",
              "      <td>98.0</td>\n",
              "      <td>25.60</td>\n",
              "      <td>67.0</td>\n",
              "      <td>72.0</td>\n",
              "      <td>0</td>\n",
              "    </tr>\n",
              "    <tr>\n",
              "      <th>4239</th>\n",
              "      <td>0</td>\n",
              "      <td>39</td>\n",
              "      <td>3.0</td>\n",
              "      <td>1</td>\n",
              "      <td>30.0</td>\n",
              "      <td>0.0</td>\n",
              "      <td>0</td>\n",
              "      <td>0</td>\n",
              "      <td>0</td>\n",
              "      <td>196.0</td>\n",
              "      <td>133.0</td>\n",
              "      <td>86.0</td>\n",
              "      <td>20.91</td>\n",
              "      <td>85.0</td>\n",
              "      <td>80.0</td>\n",
              "      <td>0</td>\n",
              "    </tr>\n",
              "  </tbody>\n",
              "</table>\n",
              "<p>4240 rows × 16 columns</p>\n",
              "</div>\n",
              "      <button class=\"colab-df-convert\" onclick=\"convertToInteractive('df-5d230226-7bfb-484a-92b7-85343732eea3')\"\n",
              "              title=\"Convert this dataframe to an interactive table.\"\n",
              "              style=\"display:none;\">\n",
              "        \n",
              "  <svg xmlns=\"http://www.w3.org/2000/svg\" height=\"24px\"viewBox=\"0 0 24 24\"\n",
              "       width=\"24px\">\n",
              "    <path d=\"M0 0h24v24H0V0z\" fill=\"none\"/>\n",
              "    <path d=\"M18.56 5.44l.94 2.06.94-2.06 2.06-.94-2.06-.94-.94-2.06-.94 2.06-2.06.94zm-11 1L8.5 8.5l.94-2.06 2.06-.94-2.06-.94L8.5 2.5l-.94 2.06-2.06.94zm10 10l.94 2.06.94-2.06 2.06-.94-2.06-.94-.94-2.06-.94 2.06-2.06.94z\"/><path d=\"M17.41 7.96l-1.37-1.37c-.4-.4-.92-.59-1.43-.59-.52 0-1.04.2-1.43.59L10.3 9.45l-7.72 7.72c-.78.78-.78 2.05 0 2.83L4 21.41c.39.39.9.59 1.41.59.51 0 1.02-.2 1.41-.59l7.78-7.78 2.81-2.81c.8-.78.8-2.07 0-2.86zM5.41 20L4 18.59l7.72-7.72 1.47 1.35L5.41 20z\"/>\n",
              "  </svg>\n",
              "      </button>\n",
              "      \n",
              "  <style>\n",
              "    .colab-df-container {\n",
              "      display:flex;\n",
              "      flex-wrap:wrap;\n",
              "      gap: 12px;\n",
              "    }\n",
              "\n",
              "    .colab-df-convert {\n",
              "      background-color: #E8F0FE;\n",
              "      border: none;\n",
              "      border-radius: 50%;\n",
              "      cursor: pointer;\n",
              "      display: none;\n",
              "      fill: #1967D2;\n",
              "      height: 32px;\n",
              "      padding: 0 0 0 0;\n",
              "      width: 32px;\n",
              "    }\n",
              "\n",
              "    .colab-df-convert:hover {\n",
              "      background-color: #E2EBFA;\n",
              "      box-shadow: 0px 1px 2px rgba(60, 64, 67, 0.3), 0px 1px 3px 1px rgba(60, 64, 67, 0.15);\n",
              "      fill: #174EA6;\n",
              "    }\n",
              "\n",
              "    [theme=dark] .colab-df-convert {\n",
              "      background-color: #3B4455;\n",
              "      fill: #D2E3FC;\n",
              "    }\n",
              "\n",
              "    [theme=dark] .colab-df-convert:hover {\n",
              "      background-color: #434B5C;\n",
              "      box-shadow: 0px 1px 3px 1px rgba(0, 0, 0, 0.15);\n",
              "      filter: drop-shadow(0px 1px 2px rgba(0, 0, 0, 0.3));\n",
              "      fill: #FFFFFF;\n",
              "    }\n",
              "  </style>\n",
              "\n",
              "      <script>\n",
              "        const buttonEl =\n",
              "          document.querySelector('#df-5d230226-7bfb-484a-92b7-85343732eea3 button.colab-df-convert');\n",
              "        buttonEl.style.display =\n",
              "          google.colab.kernel.accessAllowed ? 'block' : 'none';\n",
              "\n",
              "        async function convertToInteractive(key) {\n",
              "          const element = document.querySelector('#df-5d230226-7bfb-484a-92b7-85343732eea3');\n",
              "          const dataTable =\n",
              "            await google.colab.kernel.invokeFunction('convertToInteractive',\n",
              "                                                     [key], {});\n",
              "          if (!dataTable) return;\n",
              "\n",
              "          const docLinkHtml = 'Like what you see? Visit the ' +\n",
              "            '<a target=\"_blank\" href=https://colab.research.google.com/notebooks/data_table.ipynb>data table notebook</a>'\n",
              "            + ' to learn more about interactive tables.';\n",
              "          element.innerHTML = '';\n",
              "          dataTable['output_type'] = 'display_data';\n",
              "          await google.colab.output.renderOutput(dataTable, element);\n",
              "          const docLink = document.createElement('div');\n",
              "          docLink.innerHTML = docLinkHtml;\n",
              "          element.appendChild(docLink);\n",
              "        }\n",
              "      </script>\n",
              "    </div>\n",
              "  </div>\n",
              "  "
            ]
          },
          "metadata": {},
          "execution_count": 2
        }
      ]
    },
    {
      "cell_type": "code",
      "source": [
        "data.info()"
      ],
      "metadata": {
        "colab": {
          "base_uri": "https://localhost:8080/"
        },
        "id": "AE8HKKWZigM5",
        "outputId": "a775c147-6dea-4c6c-bfb8-211eba81e7ff"
      },
      "execution_count": 3,
      "outputs": [
        {
          "output_type": "stream",
          "name": "stdout",
          "text": [
            "<class 'pandas.core.frame.DataFrame'>\n",
            "RangeIndex: 4240 entries, 0 to 4239\n",
            "Data columns (total 16 columns):\n",
            " #   Column           Non-Null Count  Dtype  \n",
            "---  ------           --------------  -----  \n",
            " 0   male             4240 non-null   int64  \n",
            " 1   age              4240 non-null   int64  \n",
            " 2   education        4135 non-null   float64\n",
            " 3   currentSmoker    4240 non-null   int64  \n",
            " 4   cigsPerDay       4211 non-null   float64\n",
            " 5   BPMeds           4187 non-null   float64\n",
            " 6   prevalentStroke  4240 non-null   int64  \n",
            " 7   prevalentHyp     4240 non-null   int64  \n",
            " 8   diabetes         4240 non-null   int64  \n",
            " 9   totChol          4190 non-null   float64\n",
            " 10  sysBP            4240 non-null   float64\n",
            " 11  diaBP            4240 non-null   float64\n",
            " 12  BMI              4221 non-null   float64\n",
            " 13  heartRate        4239 non-null   float64\n",
            " 14  glucose          3852 non-null   float64\n",
            " 15  TenYearCHD       4240 non-null   int64  \n",
            "dtypes: float64(9), int64(7)\n",
            "memory usage: 530.1 KB\n"
          ]
        }
      ]
    },
    {
      "cell_type": "code",
      "source": [
        "data.describe()"
      ],
      "metadata": {
        "colab": {
          "base_uri": "https://localhost:8080/",
          "height": 364
        },
        "id": "CM_FuKWpijcS",
        "outputId": "50ab0fbf-5e6c-49bf-a279-2557f241fdd7"
      },
      "execution_count": 4,
      "outputs": [
        {
          "output_type": "execute_result",
          "data": {
            "text/plain": [
              "              male          age    education  currentSmoker   cigsPerDay  \\\n",
              "count  4240.000000  4240.000000  4135.000000    4240.000000  4211.000000   \n",
              "mean      0.429245    49.580189     1.979444       0.494104     9.005937   \n",
              "std       0.495027     8.572942     1.019791       0.500024    11.922462   \n",
              "min       0.000000    32.000000     1.000000       0.000000     0.000000   \n",
              "25%       0.000000    42.000000     1.000000       0.000000     0.000000   \n",
              "50%       0.000000    49.000000     2.000000       0.000000     0.000000   \n",
              "75%       1.000000    56.000000     3.000000       1.000000    20.000000   \n",
              "max       1.000000    70.000000     4.000000       1.000000    70.000000   \n",
              "\n",
              "            BPMeds  prevalentStroke  prevalentHyp     diabetes      totChol  \\\n",
              "count  4187.000000      4240.000000   4240.000000  4240.000000  4190.000000   \n",
              "mean      0.029615         0.005896      0.310613     0.025708   236.699523   \n",
              "std       0.169544         0.076569      0.462799     0.158280    44.591284   \n",
              "min       0.000000         0.000000      0.000000     0.000000   107.000000   \n",
              "25%       0.000000         0.000000      0.000000     0.000000   206.000000   \n",
              "50%       0.000000         0.000000      0.000000     0.000000   234.000000   \n",
              "75%       0.000000         0.000000      1.000000     0.000000   263.000000   \n",
              "max       1.000000         1.000000      1.000000     1.000000   696.000000   \n",
              "\n",
              "             sysBP        diaBP          BMI    heartRate      glucose  \\\n",
              "count  4240.000000  4240.000000  4221.000000  4239.000000  3852.000000   \n",
              "mean    132.354599    82.897759    25.800801    75.878981    81.963655   \n",
              "std      22.033300    11.910394     4.079840    12.025348    23.954335   \n",
              "min      83.500000    48.000000    15.540000    44.000000    40.000000   \n",
              "25%     117.000000    75.000000    23.070000    68.000000    71.000000   \n",
              "50%     128.000000    82.000000    25.400000    75.000000    78.000000   \n",
              "75%     144.000000    90.000000    28.040000    83.000000    87.000000   \n",
              "max     295.000000   142.500000    56.800000   143.000000   394.000000   \n",
              "\n",
              "        TenYearCHD  \n",
              "count  4240.000000  \n",
              "mean      0.151887  \n",
              "std       0.358953  \n",
              "min       0.000000  \n",
              "25%       0.000000  \n",
              "50%       0.000000  \n",
              "75%       0.000000  \n",
              "max       1.000000  "
            ],
            "text/html": [
              "\n",
              "  <div id=\"df-2bc9d3e3-caff-41b3-b0a0-fa36e9c2d6ef\">\n",
              "    <div class=\"colab-df-container\">\n",
              "      <div>\n",
              "<style scoped>\n",
              "    .dataframe tbody tr th:only-of-type {\n",
              "        vertical-align: middle;\n",
              "    }\n",
              "\n",
              "    .dataframe tbody tr th {\n",
              "        vertical-align: top;\n",
              "    }\n",
              "\n",
              "    .dataframe thead th {\n",
              "        text-align: right;\n",
              "    }\n",
              "</style>\n",
              "<table border=\"1\" class=\"dataframe\">\n",
              "  <thead>\n",
              "    <tr style=\"text-align: right;\">\n",
              "      <th></th>\n",
              "      <th>male</th>\n",
              "      <th>age</th>\n",
              "      <th>education</th>\n",
              "      <th>currentSmoker</th>\n",
              "      <th>cigsPerDay</th>\n",
              "      <th>BPMeds</th>\n",
              "      <th>prevalentStroke</th>\n",
              "      <th>prevalentHyp</th>\n",
              "      <th>diabetes</th>\n",
              "      <th>totChol</th>\n",
              "      <th>sysBP</th>\n",
              "      <th>diaBP</th>\n",
              "      <th>BMI</th>\n",
              "      <th>heartRate</th>\n",
              "      <th>glucose</th>\n",
              "      <th>TenYearCHD</th>\n",
              "    </tr>\n",
              "  </thead>\n",
              "  <tbody>\n",
              "    <tr>\n",
              "      <th>count</th>\n",
              "      <td>4240.000000</td>\n",
              "      <td>4240.000000</td>\n",
              "      <td>4135.000000</td>\n",
              "      <td>4240.000000</td>\n",
              "      <td>4211.000000</td>\n",
              "      <td>4187.000000</td>\n",
              "      <td>4240.000000</td>\n",
              "      <td>4240.000000</td>\n",
              "      <td>4240.000000</td>\n",
              "      <td>4190.000000</td>\n",
              "      <td>4240.000000</td>\n",
              "      <td>4240.000000</td>\n",
              "      <td>4221.000000</td>\n",
              "      <td>4239.000000</td>\n",
              "      <td>3852.000000</td>\n",
              "      <td>4240.000000</td>\n",
              "    </tr>\n",
              "    <tr>\n",
              "      <th>mean</th>\n",
              "      <td>0.429245</td>\n",
              "      <td>49.580189</td>\n",
              "      <td>1.979444</td>\n",
              "      <td>0.494104</td>\n",
              "      <td>9.005937</td>\n",
              "      <td>0.029615</td>\n",
              "      <td>0.005896</td>\n",
              "      <td>0.310613</td>\n",
              "      <td>0.025708</td>\n",
              "      <td>236.699523</td>\n",
              "      <td>132.354599</td>\n",
              "      <td>82.897759</td>\n",
              "      <td>25.800801</td>\n",
              "      <td>75.878981</td>\n",
              "      <td>81.963655</td>\n",
              "      <td>0.151887</td>\n",
              "    </tr>\n",
              "    <tr>\n",
              "      <th>std</th>\n",
              "      <td>0.495027</td>\n",
              "      <td>8.572942</td>\n",
              "      <td>1.019791</td>\n",
              "      <td>0.500024</td>\n",
              "      <td>11.922462</td>\n",
              "      <td>0.169544</td>\n",
              "      <td>0.076569</td>\n",
              "      <td>0.462799</td>\n",
              "      <td>0.158280</td>\n",
              "      <td>44.591284</td>\n",
              "      <td>22.033300</td>\n",
              "      <td>11.910394</td>\n",
              "      <td>4.079840</td>\n",
              "      <td>12.025348</td>\n",
              "      <td>23.954335</td>\n",
              "      <td>0.358953</td>\n",
              "    </tr>\n",
              "    <tr>\n",
              "      <th>min</th>\n",
              "      <td>0.000000</td>\n",
              "      <td>32.000000</td>\n",
              "      <td>1.000000</td>\n",
              "      <td>0.000000</td>\n",
              "      <td>0.000000</td>\n",
              "      <td>0.000000</td>\n",
              "      <td>0.000000</td>\n",
              "      <td>0.000000</td>\n",
              "      <td>0.000000</td>\n",
              "      <td>107.000000</td>\n",
              "      <td>83.500000</td>\n",
              "      <td>48.000000</td>\n",
              "      <td>15.540000</td>\n",
              "      <td>44.000000</td>\n",
              "      <td>40.000000</td>\n",
              "      <td>0.000000</td>\n",
              "    </tr>\n",
              "    <tr>\n",
              "      <th>25%</th>\n",
              "      <td>0.000000</td>\n",
              "      <td>42.000000</td>\n",
              "      <td>1.000000</td>\n",
              "      <td>0.000000</td>\n",
              "      <td>0.000000</td>\n",
              "      <td>0.000000</td>\n",
              "      <td>0.000000</td>\n",
              "      <td>0.000000</td>\n",
              "      <td>0.000000</td>\n",
              "      <td>206.000000</td>\n",
              "      <td>117.000000</td>\n",
              "      <td>75.000000</td>\n",
              "      <td>23.070000</td>\n",
              "      <td>68.000000</td>\n",
              "      <td>71.000000</td>\n",
              "      <td>0.000000</td>\n",
              "    </tr>\n",
              "    <tr>\n",
              "      <th>50%</th>\n",
              "      <td>0.000000</td>\n",
              "      <td>49.000000</td>\n",
              "      <td>2.000000</td>\n",
              "      <td>0.000000</td>\n",
              "      <td>0.000000</td>\n",
              "      <td>0.000000</td>\n",
              "      <td>0.000000</td>\n",
              "      <td>0.000000</td>\n",
              "      <td>0.000000</td>\n",
              "      <td>234.000000</td>\n",
              "      <td>128.000000</td>\n",
              "      <td>82.000000</td>\n",
              "      <td>25.400000</td>\n",
              "      <td>75.000000</td>\n",
              "      <td>78.000000</td>\n",
              "      <td>0.000000</td>\n",
              "    </tr>\n",
              "    <tr>\n",
              "      <th>75%</th>\n",
              "      <td>1.000000</td>\n",
              "      <td>56.000000</td>\n",
              "      <td>3.000000</td>\n",
              "      <td>1.000000</td>\n",
              "      <td>20.000000</td>\n",
              "      <td>0.000000</td>\n",
              "      <td>0.000000</td>\n",
              "      <td>1.000000</td>\n",
              "      <td>0.000000</td>\n",
              "      <td>263.000000</td>\n",
              "      <td>144.000000</td>\n",
              "      <td>90.000000</td>\n",
              "      <td>28.040000</td>\n",
              "      <td>83.000000</td>\n",
              "      <td>87.000000</td>\n",
              "      <td>0.000000</td>\n",
              "    </tr>\n",
              "    <tr>\n",
              "      <th>max</th>\n",
              "      <td>1.000000</td>\n",
              "      <td>70.000000</td>\n",
              "      <td>4.000000</td>\n",
              "      <td>1.000000</td>\n",
              "      <td>70.000000</td>\n",
              "      <td>1.000000</td>\n",
              "      <td>1.000000</td>\n",
              "      <td>1.000000</td>\n",
              "      <td>1.000000</td>\n",
              "      <td>696.000000</td>\n",
              "      <td>295.000000</td>\n",
              "      <td>142.500000</td>\n",
              "      <td>56.800000</td>\n",
              "      <td>143.000000</td>\n",
              "      <td>394.000000</td>\n",
              "      <td>1.000000</td>\n",
              "    </tr>\n",
              "  </tbody>\n",
              "</table>\n",
              "</div>\n",
              "      <button class=\"colab-df-convert\" onclick=\"convertToInteractive('df-2bc9d3e3-caff-41b3-b0a0-fa36e9c2d6ef')\"\n",
              "              title=\"Convert this dataframe to an interactive table.\"\n",
              "              style=\"display:none;\">\n",
              "        \n",
              "  <svg xmlns=\"http://www.w3.org/2000/svg\" height=\"24px\"viewBox=\"0 0 24 24\"\n",
              "       width=\"24px\">\n",
              "    <path d=\"M0 0h24v24H0V0z\" fill=\"none\"/>\n",
              "    <path d=\"M18.56 5.44l.94 2.06.94-2.06 2.06-.94-2.06-.94-.94-2.06-.94 2.06-2.06.94zm-11 1L8.5 8.5l.94-2.06 2.06-.94-2.06-.94L8.5 2.5l-.94 2.06-2.06.94zm10 10l.94 2.06.94-2.06 2.06-.94-2.06-.94-.94-2.06-.94 2.06-2.06.94z\"/><path d=\"M17.41 7.96l-1.37-1.37c-.4-.4-.92-.59-1.43-.59-.52 0-1.04.2-1.43.59L10.3 9.45l-7.72 7.72c-.78.78-.78 2.05 0 2.83L4 21.41c.39.39.9.59 1.41.59.51 0 1.02-.2 1.41-.59l7.78-7.78 2.81-2.81c.8-.78.8-2.07 0-2.86zM5.41 20L4 18.59l7.72-7.72 1.47 1.35L5.41 20z\"/>\n",
              "  </svg>\n",
              "      </button>\n",
              "      \n",
              "  <style>\n",
              "    .colab-df-container {\n",
              "      display:flex;\n",
              "      flex-wrap:wrap;\n",
              "      gap: 12px;\n",
              "    }\n",
              "\n",
              "    .colab-df-convert {\n",
              "      background-color: #E8F0FE;\n",
              "      border: none;\n",
              "      border-radius: 50%;\n",
              "      cursor: pointer;\n",
              "      display: none;\n",
              "      fill: #1967D2;\n",
              "      height: 32px;\n",
              "      padding: 0 0 0 0;\n",
              "      width: 32px;\n",
              "    }\n",
              "\n",
              "    .colab-df-convert:hover {\n",
              "      background-color: #E2EBFA;\n",
              "      box-shadow: 0px 1px 2px rgba(60, 64, 67, 0.3), 0px 1px 3px 1px rgba(60, 64, 67, 0.15);\n",
              "      fill: #174EA6;\n",
              "    }\n",
              "\n",
              "    [theme=dark] .colab-df-convert {\n",
              "      background-color: #3B4455;\n",
              "      fill: #D2E3FC;\n",
              "    }\n",
              "\n",
              "    [theme=dark] .colab-df-convert:hover {\n",
              "      background-color: #434B5C;\n",
              "      box-shadow: 0px 1px 3px 1px rgba(0, 0, 0, 0.15);\n",
              "      filter: drop-shadow(0px 1px 2px rgba(0, 0, 0, 0.3));\n",
              "      fill: #FFFFFF;\n",
              "    }\n",
              "  </style>\n",
              "\n",
              "      <script>\n",
              "        const buttonEl =\n",
              "          document.querySelector('#df-2bc9d3e3-caff-41b3-b0a0-fa36e9c2d6ef button.colab-df-convert');\n",
              "        buttonEl.style.display =\n",
              "          google.colab.kernel.accessAllowed ? 'block' : 'none';\n",
              "\n",
              "        async function convertToInteractive(key) {\n",
              "          const element = document.querySelector('#df-2bc9d3e3-caff-41b3-b0a0-fa36e9c2d6ef');\n",
              "          const dataTable =\n",
              "            await google.colab.kernel.invokeFunction('convertToInteractive',\n",
              "                                                     [key], {});\n",
              "          if (!dataTable) return;\n",
              "\n",
              "          const docLinkHtml = 'Like what you see? Visit the ' +\n",
              "            '<a target=\"_blank\" href=https://colab.research.google.com/notebooks/data_table.ipynb>data table notebook</a>'\n",
              "            + ' to learn more about interactive tables.';\n",
              "          element.innerHTML = '';\n",
              "          dataTable['output_type'] = 'display_data';\n",
              "          await google.colab.output.renderOutput(dataTable, element);\n",
              "          const docLink = document.createElement('div');\n",
              "          docLink.innerHTML = docLinkHtml;\n",
              "          element.appendChild(docLink);\n",
              "        }\n",
              "      </script>\n",
              "    </div>\n",
              "  </div>\n",
              "  "
            ]
          },
          "metadata": {},
          "execution_count": 4
        }
      ]
    },
    {
      "cell_type": "code",
      "source": [
        "print('No of Records:',data.shape[0],'\\nNo of Features:',data.shape[1])"
      ],
      "metadata": {
        "colab": {
          "base_uri": "https://localhost:8080/"
        },
        "id": "3p92150ejjRR",
        "outputId": "1326dbac-47d8-4012-e7b3-8ba5b6f165c6"
      },
      "execution_count": 5,
      "outputs": [
        {
          "output_type": "stream",
          "name": "stdout",
          "text": [
            "No of Records: 4240 \n",
            "No of Features: 16\n"
          ]
        }
      ]
    },
    {
      "cell_type": "code",
      "source": [
        "data.isnull().sum()"
      ],
      "metadata": {
        "colab": {
          "base_uri": "https://localhost:8080/"
        },
        "id": "UINwJGrYkGvy",
        "outputId": "8177eec0-0397-4b7e-ec5c-59d3176269e3"
      },
      "execution_count": 6,
      "outputs": [
        {
          "output_type": "execute_result",
          "data": {
            "text/plain": [
              "male                 0\n",
              "age                  0\n",
              "education          105\n",
              "currentSmoker        0\n",
              "cigsPerDay          29\n",
              "BPMeds              53\n",
              "prevalentStroke      0\n",
              "prevalentHyp         0\n",
              "diabetes             0\n",
              "totChol             50\n",
              "sysBP                0\n",
              "diaBP                0\n",
              "BMI                 19\n",
              "heartRate            1\n",
              "glucose            388\n",
              "TenYearCHD           0\n",
              "dtype: int64"
            ]
          },
          "metadata": {},
          "execution_count": 6
        }
      ]
    },
    {
      "cell_type": "code",
      "source": [
        "df=data.fillna(method='ffill')"
      ],
      "metadata": {
        "id": "XTabmamxkJc0"
      },
      "execution_count": 7,
      "outputs": []
    },
    {
      "cell_type": "code",
      "source": [
        "df.isnull().sum()"
      ],
      "metadata": {
        "colab": {
          "base_uri": "https://localhost:8080/"
        },
        "id": "RrVIdhhUlKrR",
        "outputId": "d332fed4-fcdc-4cef-ab3b-2b7674b67402"
      },
      "execution_count": 8,
      "outputs": [
        {
          "output_type": "execute_result",
          "data": {
            "text/plain": [
              "male               0\n",
              "age                0\n",
              "education          0\n",
              "currentSmoker      0\n",
              "cigsPerDay         0\n",
              "BPMeds             0\n",
              "prevalentStroke    0\n",
              "prevalentHyp       0\n",
              "diabetes           0\n",
              "totChol            0\n",
              "sysBP              0\n",
              "diaBP              0\n",
              "BMI                0\n",
              "heartRate          0\n",
              "glucose            0\n",
              "TenYearCHD         0\n",
              "dtype: int64"
            ]
          },
          "metadata": {},
          "execution_count": 8
        }
      ]
    },
    {
      "cell_type": "code",
      "source": [
        "df.dtypes"
      ],
      "metadata": {
        "colab": {
          "base_uri": "https://localhost:8080/"
        },
        "id": "g9gLQjBvkdWp",
        "outputId": "aaff4d79-8f63-4c7d-e3b2-39f59272a3e7"
      },
      "execution_count": 9,
      "outputs": [
        {
          "output_type": "execute_result",
          "data": {
            "text/plain": [
              "male                 int64\n",
              "age                  int64\n",
              "education          float64\n",
              "currentSmoker        int64\n",
              "cigsPerDay         float64\n",
              "BPMeds             float64\n",
              "prevalentStroke      int64\n",
              "prevalentHyp         int64\n",
              "diabetes             int64\n",
              "totChol            float64\n",
              "sysBP              float64\n",
              "diaBP              float64\n",
              "BMI                float64\n",
              "heartRate          float64\n",
              "glucose            float64\n",
              "TenYearCHD           int64\n",
              "dtype: object"
            ]
          },
          "metadata": {},
          "execution_count": 9
        }
      ]
    },
    {
      "cell_type": "code",
      "source": [
        "df.mean()"
      ],
      "metadata": {
        "colab": {
          "base_uri": "https://localhost:8080/"
        },
        "id": "DTMfIZ3QqAPn",
        "outputId": "5303cdbe-02ae-4b2c-f73a-88efc2007e76"
      },
      "execution_count": 10,
      "outputs": [
        {
          "output_type": "execute_result",
          "data": {
            "text/plain": [
              "male                 0.429245\n",
              "age                 49.580189\n",
              "education            1.981368\n",
              "currentSmoker        0.494104\n",
              "cigsPerDay           9.019104\n",
              "BPMeds               0.029481\n",
              "prevalentStroke      0.005896\n",
              "prevalentHyp         0.310613\n",
              "diabetes             0.025708\n",
              "totChol            236.721934\n",
              "sysBP              132.354599\n",
              "diaBP               82.897759\n",
              "BMI                 25.792328\n",
              "heartRate           75.876651\n",
              "glucose             81.981368\n",
              "TenYearCHD           0.151887\n",
              "dtype: float64"
            ]
          },
          "metadata": {},
          "execution_count": 10
        }
      ]
    },
    {
      "cell_type": "markdown",
      "source": [
        "**Removing Outliers**"
      ],
      "metadata": {
        "id": "LADeRWivikVr"
      }
    },
    {
      "cell_type": "code",
      "source": [
        "df.boxplot(column='cigsPerDay')"
      ],
      "metadata": {
        "colab": {
          "base_uri": "https://localhost:8080/",
          "height": 282
        },
        "id": "iaXY2SEyijn9",
        "outputId": "1978da3d-59fa-4d37-f9e2-c135f4c5515f"
      },
      "execution_count": 11,
      "outputs": [
        {
          "output_type": "execute_result",
          "data": {
            "text/plain": [
              "<matplotlib.axes._subplots.AxesSubplot at 0x7f7268495390>"
            ]
          },
          "metadata": {},
          "execution_count": 11
        },
        {
          "output_type": "display_data",
          "data": {
            "text/plain": [
              "<Figure size 432x288 with 1 Axes>"
            ],
            "image/png": "[encoded data removed]"
          },
          "metadata": {
            "needs_background": "light"
          }
        }
      ]
    },
    {
      "cell_type": "code",
      "source": [
        "df.loc[df['cigsPerDay'] > 59, 'cigsPerDay'] = 9.02"
      ],
      "metadata": {
        "id": "YllVDMZDi0FA"
      },
      "execution_count": 12,
      "outputs": []
    },
    {
      "cell_type": "code",
      "source": [
        "df['totChol'].describe()"
      ],
      "metadata": {
        "colab": {
          "base_uri": "https://localhost:8080/"
        },
        "id": "ovnbdm-6jBpc",
        "outputId": "5b7ee942-5971-4920-edbc-f58a2bbf6d14"
      },
      "execution_count": 13,
      "outputs": [
        {
          "output_type": "execute_result",
          "data": {
            "text/plain": [
              "count    4240.000000\n",
              "mean      236.721934\n",
              "std        44.598191\n",
              "min       107.000000\n",
              "25%       206.000000\n",
              "50%       234.000000\n",
              "75%       263.000000\n",
              "max       696.000000\n",
              "Name: totChol, dtype: float64"
            ]
          },
          "metadata": {},
          "execution_count": 13
        }
      ]
    },
    {
      "cell_type": "code",
      "source": [
        "df.loc[df['totChol'] > 480, 'totChol'] = 237"
      ],
      "metadata": {
        "id": "dKmFookrjNAl"
      },
      "execution_count": 14,
      "outputs": []
    },
    {
      "cell_type": "code",
      "source": [
        "df['sysBP'].describe()"
      ],
      "metadata": {
        "colab": {
          "base_uri": "https://localhost:8080/"
        },
        "id": "bQSuL6dojX-l",
        "outputId": "6e3ccb12-777d-4d43-8838-cb128f8dcdc0"
      },
      "execution_count": 15,
      "outputs": [
        {
          "output_type": "execute_result",
          "data": {
            "text/plain": [
              "count    4240.000000\n",
              "mean      132.354599\n",
              "std        22.033300\n",
              "min        83.500000\n",
              "25%       117.000000\n",
              "50%       128.000000\n",
              "75%       144.000000\n",
              "max       295.000000\n",
              "Name: sysBP, dtype: float64"
            ]
          },
          "metadata": {},
          "execution_count": 15
        }
      ]
    },
    {
      "cell_type": "code",
      "source": [
        "df.loc[df['sysBP'] > 270, 'sysBP'] = df['sysBP'].median()"
      ],
      "metadata": {
        "id": "uqoZWpZhjcS4"
      },
      "execution_count": 16,
      "outputs": []
    },
    {
      "cell_type": "code",
      "source": [
        "df['BMI'].describe()"
      ],
      "metadata": {
        "colab": {
          "base_uri": "https://localhost:8080/"
        },
        "id": "4HSr1Yv9jqeM",
        "outputId": "e44cbec2-c230-42cc-c45d-f58601943c2e"
      },
      "execution_count": 17,
      "outputs": [
        {
          "output_type": "execute_result",
          "data": {
            "text/plain": [
              "count    4240.000000\n",
              "mean       25.792328\n",
              "std         4.078078\n",
              "min        15.540000\n",
              "25%        23.067500\n",
              "50%        25.380000\n",
              "75%        28.040000\n",
              "max        56.800000\n",
              "Name: BMI, dtype: float64"
            ]
          },
          "metadata": {},
          "execution_count": 17
        }
      ]
    },
    {
      "cell_type": "code",
      "source": [
        "df.loc[df['BMI'] > 49, 'BMI'] = df['BMI'].median()"
      ],
      "metadata": {
        "id": "Ez78KfXrjvD-"
      },
      "execution_count": 18,
      "outputs": []
    },
    {
      "cell_type": "code",
      "source": [
        "df['heartRate'].describe()"
      ],
      "metadata": {
        "colab": {
          "base_uri": "https://localhost:8080/"
        },
        "id": "gWq-0CJJj3bL",
        "outputId": "c3302e59-eaba-4908-af90-57f2c90250a5"
      },
      "execution_count": 19,
      "outputs": [
        {
          "output_type": "execute_result",
          "data": {
            "text/plain": [
              "count    4240.000000\n",
              "mean       75.876651\n",
              "std        12.024887\n",
              "min        44.000000\n",
              "25%        68.000000\n",
              "50%        75.000000\n",
              "75%        83.000000\n",
              "max       143.000000\n",
              "Name: heartRate, dtype: float64"
            ]
          },
          "metadata": {},
          "execution_count": 19
        }
      ]
    },
    {
      "cell_type": "code",
      "source": [
        "df['age'].describe()"
      ],
      "metadata": {
        "colab": {
          "base_uri": "https://localhost:8080/"
        },
        "id": "JSF7p8CTj9H0",
        "outputId": "e17198b2-4432-4328-db08-8a2889e2e905"
      },
      "execution_count": 20,
      "outputs": [
        {
          "output_type": "execute_result",
          "data": {
            "text/plain": [
              "count    4240.000000\n",
              "mean       49.580189\n",
              "std         8.572942\n",
              "min        32.000000\n",
              "25%        42.000000\n",
              "50%        49.000000\n",
              "75%        56.000000\n",
              "max        70.000000\n",
              "Name: age, dtype: float64"
            ]
          },
          "metadata": {},
          "execution_count": 20
        }
      ]
    },
    {
      "cell_type": "code",
      "source": [
        "def draw_histograms(dataframe, features, rows, cols):\n",
        "    fig=plt.figure(figsize=(20,20))\n",
        "    for i, feature in enumerate(features):\n",
        "        ax=fig.add_subplot(rows,cols,i+1)\n",
        "        dataframe[feature].hist(bins=20,ax=ax,facecolor='Green')\n",
        "        ax.set_title(feature+\" Distribution\",color='DarkRed')\n",
        "        \n",
        "    fig.tight_layout()  \n",
        "    plt.show()\n",
        "draw_histograms(df,df.columns,6,3)"
      ],
      "metadata": {
        "colab": {
          "base_uri": "https://localhost:8080/",
          "height": 1000
        },
        "id": "zPUW2LB2kEXk",
        "outputId": "579897ac-36d9-453a-db4e-ae01760506d1"
      },
      "execution_count": 21,
      "outputs": [
        {
          "output_type": "display_data",
          "data": {
            "text/plain": [
              "<Figure size 1440x1440 with 16 Axes>"
            ],
            "image/png": "[encoded data removed]"
          },
          "metadata": {
            "needs_background": "light"
          }
        }
      ]
    },
    {
      "cell_type": "code",
      "source": [
        "target_count = df['TenYearCHD'].value_counts()\n",
        "print('Class 0:', target_count[0])\n",
        "print('Class 1:', target_count[1])\n",
        "print('Proportion:', round(target_count[0] / target_count[1], 2), ': 1')\n",
        "\n",
        "target_count.plot(kind='bar', title='Count (target)')"
      ],
      "metadata": {
        "colab": {
          "base_uri": "https://localhost:8080/",
          "height": 347
        },
        "id": "Xu7RSMVi1CSv",
        "outputId": "320e339b-fec9-40b4-8302-3b8d7aa48eea"
      },
      "execution_count": 22,
      "outputs": [
        {
          "output_type": "stream",
          "name": "stdout",
          "text": [
            "Class 0: 3596\n",
            "Class 1: 644\n",
            "Proportion: 5.58 : 1\n"
          ]
        },
        {
          "output_type": "execute_result",
          "data": {
            "text/plain": [
              "<matplotlib.axes._subplots.AxesSubplot at 0x7f7264c36fd0>"
            ]
          },
          "metadata": {},
          "execution_count": 22
        },
        {
          "output_type": "display_data",
          "data": {
            "text/plain": [
              "<Figure size 432x288 with 1 Axes>"
            ],
            "image/png": "[encoded data removed]"
          },
          "metadata": {
            "needs_background": "light"
          }
        }
      ]
    },
    {
      "cell_type": "code",
      "source": [
        "# Class count\n",
        "count_class_0, count_class_1 = df['TenYearCHD'].value_counts()\n",
        "\n",
        "# Divide by class\n",
        "df_class_0 = df[df['TenYearCHD'] == 0]\n",
        "df_class_1 = df[df['TenYearCHD'] == 1]"
      ],
      "metadata": {
        "id": "Z_yqZyzK1HIu"
      },
      "execution_count": 23,
      "outputs": []
    },
    {
      "cell_type": "code",
      "source": [
        "df_class_1_over = df_class_1.sample(count_class_0, replace=True)\n",
        "df_test_over = pd.concat([df_class_0, df_class_1_over], axis=0)\n",
        "\n",
        "print('Random over-sampling:')\n",
        "print(df_test_over['TenYearCHD'].value_counts())\n",
        "\n",
        "df_test_over['TenYearCHD'].value_counts()"
      ],
      "metadata": {
        "colab": {
          "base_uri": "https://localhost:8080/"
        },
        "id": "-YpPlysi05e1",
        "outputId": "6202ede0-7e03-43ea-f869-ed1c40e699dc"
      },
      "execution_count": 24,
      "outputs": [
        {
          "output_type": "stream",
          "name": "stdout",
          "text": [
            "Random over-sampling:\n",
            "0    3596\n",
            "1    3596\n",
            "Name: TenYearCHD, dtype: int64\n"
          ]
        },
        {
          "output_type": "execute_result",
          "data": {
            "text/plain": [
              "0    3596\n",
              "1    3596\n",
              "Name: TenYearCHD, dtype: int64"
            ]
          },
          "metadata": {},
          "execution_count": 24
        }
      ]
    },
    {
      "cell_type": "markdown",
      "source": [
        "**in the above dataset rest of the Features we need for prediction except the Education. So, we are removing Education for better results**\n"
      ],
      "metadata": {
        "id": "zhf1T_dPkePx"
      }
    },
    {
      "cell_type": "markdown",
      "source": [
        "**Model Preparation**"
      ],
      "metadata": {
        "id": "ued-W0X_lWIM"
      }
    },
    {
      "cell_type": "code",
      "source": [
        "from sklearn.preprocessing import MinMaxScaler\n",
        "x = df.drop(['TenYearCHD'], axis = 1)\n",
        "y = df['TenYearCHD']\n",
        "scaler = MinMaxScaler()\n",
        "x = scaler.fit_transform(x)"
      ],
      "metadata": {
        "id": "Yk1N_0_flS6y"
      },
      "execution_count": 25,
      "outputs": []
    },
    {
      "cell_type": "markdown",
      "source": [
        "**Spliting the Data**"
      ],
      "metadata": {
        "id": "8ioowxDxltt5"
      }
    },
    {
      "cell_type": "code",
      "source": [
        "from sklearn.model_selection import train_test_split\n",
        "x_train,x_test,y_train,y_test=train_test_split(x,y,test_size=0.3,random_state=50)"
      ],
      "metadata": {
        "id": "boD6MYGnlswq"
      },
      "execution_count": 26,
      "outputs": []
    },
    {
      "cell_type": "code",
      "source": [
        "print(x_train.shape),print(x_test.shape),\n",
        "print(y_train.shape),print(y_test.shape)"
      ],
      "metadata": {
        "colab": {
          "base_uri": "https://localhost:8080/"
        },
        "id": "LmnzJdsSt3mi",
        "outputId": "5422807a-31b7-44cd-e257-0cdcfc38b367"
      },
      "execution_count": 27,
      "outputs": [
        {
          "output_type": "stream",
          "name": "stdout",
          "text": [
            "(2968, 15)\n",
            "(1272, 15)\n",
            "(2968,)\n",
            "(1272,)\n"
          ]
        },
        {
          "output_type": "execute_result",
          "data": {
            "text/plain": [
              "(None, None)"
            ]
          },
          "metadata": {},
          "execution_count": 27
        }
      ]
    },
    {
      "cell_type": "markdown",
      "source": [
        "**Model Predicition**"
      ],
      "metadata": {
        "id": "gE5EDK-9vzia"
      }
    },
    {
      "cell_type": "markdown",
      "source": [
        "Logistic Regression"
      ],
      "metadata": {
        "id": "DbrF0UIzv2tS"
      }
    },
    {
      "cell_type": "code",
      "source": [
        "from sklearn.linear_model import LogisticRegression\n",
        "model_LR=LogisticRegression().fit(x_train,y_train)\n",
        "\n",
        "print(\"The score of Test Data Set for Linear Regression is        \",model_LR.score(x_test, y_test))\n",
        "print(\"The score of Train Data Set for Linear Regression is       \",model_LR.score(x_train, y_train))\n",
        "\n",
        "y_pred=model_LR.predict(x_test)"
      ],
      "metadata": {
        "colab": {
          "base_uri": "https://localhost:8080/"
        },
        "id": "2pNZC0rZvy32",
        "outputId": "1b85076f-3ff5-4165-db35-beae55077499"
      },
      "execution_count": 28,
      "outputs": [
        {
          "output_type": "stream",
          "name": "stdout",
          "text": [
            "The score of Test Data Set for Linear Regression is         0.839622641509434\n",
            "The score of Train Data Set for Linear Regression is        0.8598382749326146\n"
          ]
        }
      ]
    },
    {
      "cell_type": "code",
      "source": [
        "c = model_LR.predict(x_test)\n",
        "print(model_LR.score(x_test, y_test))"
      ],
      "metadata": {
        "colab": {
          "base_uri": "https://localhost:8080/"
        },
        "id": "Qyz6K1tWxWoO",
        "outputId": "deb5df5d-e7d0-4711-d40b-469923a0297e"
      },
      "execution_count": 29,
      "outputs": [
        {
          "output_type": "stream",
          "name": "stdout",
          "text": [
            "0.839622641509434\n"
          ]
        }
      ]
    },
    {
      "cell_type": "code",
      "source": [
        "from sklearn.metrics import confusion_matrix,classification_report,accuracy_score,f1_score\n",
        "print('The Accuracy is : ',accuracy_score(y_test, y_pred ))"
      ],
      "metadata": {
        "colab": {
          "base_uri": "https://localhost:8080/"
        },
        "id": "rj_iEk3BxqPf",
        "outputId": "a7b83063-6c7f-4561-c05b-5228dc38afaa"
      },
      "execution_count": 30,
      "outputs": [
        {
          "output_type": "stream",
          "name": "stdout",
          "text": [
            "The Accuracy is :  0.839622641509434\n"
          ]
        }
      ]
    },
    {
      "cell_type": "code",
      "source": [
        "cm = confusion_matrix(y_test,y_pred)\n",
        "print(cm)\n",
        "\n",
        "TP =cm[0][0]\n",
        "FN =cm[0][1]\n",
        "TN = cm[1][1]\n",
        "FP = cm[1][0]\n",
        "\n",
        "print(\"TP: \", TP)\n",
        "print(\"TN\", TN)\n",
        "print(\"FP\", FP)\n",
        "print(\"FN\", FN)\n",
        "\n",
        "Precision = (TP / (TP+FP))\n",
        "Recall = (TP / (TP+FN))\n",
        "\n",
        "print(\"Accuracy: \", ((TP+TN) / (TP+FP+FN+TN)))\n",
        "print(\"Precision\", (TP / (TP+FP)))\n",
        "print(\"Recall\", (TP / (TP+FN)))\n",
        "print(\"Specificity\", (TN / (TN+FP)) )\n",
        "print(\"F1 Score\",  ((2 * Precision * Recall) / (Precision + Recall)))\n",
        "\n",
        "print(classification_report(y_test, y_pred))\n"
      ],
      "metadata": {
        "colab": {
          "base_uri": "https://localhost:8080/"
        },
        "id": "Epb1U4nlzXAL",
        "outputId": "6581d5e0-d805-4227-a344-d62b548651f3"
      },
      "execution_count": 31,
      "outputs": [
        {
          "output_type": "stream",
          "name": "stdout",
          "text": [
            "[[1055   14]\n",
            " [ 190   13]]\n",
            "TP:  1055\n",
            "TN 13\n",
            "FP 190\n",
            "FN 14\n",
            "Accuracy:  0.839622641509434\n",
            "Precision 0.8473895582329317\n",
            "Recall 0.9869036482694107\n",
            "Specificity 0.06403940886699508\n",
            "F1 Score 0.9118409680207432\n",
            "              precision    recall  f1-score   support\n",
            "\n",
            "           0       0.85      0.99      0.91      1069\n",
            "           1       0.48      0.06      0.11       203\n",
            "\n",
            "    accuracy                           0.84      1272\n",
            "   macro avg       0.66      0.53      0.51      1272\n",
            "weighted avg       0.79      0.84      0.78      1272\n",
            "\n"
          ]
        }
      ]
    },
    {
      "cell_type": "markdown",
      "source": [
        "**mean error**"
      ],
      "metadata": {
        "id": "IdBRMe82z3Fx"
      }
    },
    {
      "cell_type": "code",
      "source": [
        "df.groupby('TenYearCHD').count()"
      ],
      "metadata": {
        "colab": {
          "base_uri": "https://localhost:8080/",
          "height": 207
        },
        "id": "0Oyt3c6D0aLG",
        "outputId": "02c3a039-2dd6-4770-c510-e3495a687564"
      },
      "execution_count": 32,
      "outputs": [
        {
          "output_type": "execute_result",
          "data": {
            "text/plain": [
              "            male   age  education  currentSmoker  cigsPerDay  BPMeds  \\\n",
              "TenYearCHD                                                             \n",
              "0           3596  3596       3596           3596        3596    3596   \n",
              "1            644   644        644            644         644     644   \n",
              "\n",
              "            prevalentStroke  prevalentHyp  diabetes  totChol  sysBP  diaBP  \\\n",
              "TenYearCHD                                                                   \n",
              "0                      3596          3596      3596     3596   3596   3596   \n",
              "1                       644           644       644      644    644    644   \n",
              "\n",
              "             BMI  heartRate  glucose  \n",
              "TenYearCHD                            \n",
              "0           3596       3596     3596  \n",
              "1            644        644      644  "
            ],
            "text/html": [
              "\n",
              "  <div id=\"df-358a25d6-aa19-476f-821f-5b7504f16f3d\">\n",
              "    <div class=\"colab-df-container\">\n",
              "      <div>\n",
              "<style scoped>\n",
              "    .dataframe tbody tr th:only-of-type {\n",
              "        vertical-align: middle;\n",
              "    }\n",
              "\n",
              "    .dataframe tbody tr th {\n",
              "        vertical-align: top;\n",
              "    }\n",
              "\n",
              "    .dataframe thead th {\n",
              "        text-align: right;\n",
              "    }\n",
              "</style>\n",
              "<table border=\"1\" class=\"dataframe\">\n",
              "  <thead>\n",
              "    <tr style=\"text-align: right;\">\n",
              "      <th></th>\n",
              "      <th>male</th>\n",
              "      <th>age</th>\n",
              "      <th>education</th>\n",
              "      <th>currentSmoker</th>\n",
              "      <th>cigsPerDay</th>\n",
              "      <th>BPMeds</th>\n",
              "      <th>prevalentStroke</th>\n",
              "      <th>prevalentHyp</th>\n",
              "      <th>diabetes</th>\n",
              "      <th>totChol</th>\n",
              "      <th>sysBP</th>\n",
              "      <th>diaBP</th>\n",
              "      <th>BMI</th>\n",
              "      <th>heartRate</th>\n",
              "      <th>glucose</th>\n",
              "    </tr>\n",
              "    <tr>\n",
              "      <th>TenYearCHD</th>\n",
              "      <th></th>\n",
              "      <th></th>\n",
              "      <th></th>\n",
              "      <th></th>\n",
              "      <th></th>\n",
              "      <th></th>\n",
              "      <th></th>\n",
              "      <th></th>\n",
              "      <th></th>\n",
              "      <th></th>\n",
              "      <th></th>\n",
              "      <th></th>\n",
              "      <th></th>\n",
              "      <th></th>\n",
              "      <th></th>\n",
              "    </tr>\n",
              "  </thead>\n",
              "  <tbody>\n",
              "    <tr>\n",
              "      <th>0</th>\n",
              "      <td>3596</td>\n",
              "      <td>3596</td>\n",
              "      <td>3596</td>\n",
              "      <td>3596</td>\n",
              "      <td>3596</td>\n",
              "      <td>3596</td>\n",
              "      <td>3596</td>\n",
              "      <td>3596</td>\n",
              "      <td>3596</td>\n",
              "      <td>3596</td>\n",
              "      <td>3596</td>\n",
              "      <td>3596</td>\n",
              "      <td>3596</td>\n",
              "      <td>3596</td>\n",
              "      <td>3596</td>\n",
              "    </tr>\n",
              "    <tr>\n",
              "      <th>1</th>\n",
              "      <td>644</td>\n",
              "      <td>644</td>\n",
              "      <td>644</td>\n",
              "      <td>644</td>\n",
              "      <td>644</td>\n",
              "      <td>644</td>\n",
              "      <td>644</td>\n",
              "      <td>644</td>\n",
              "      <td>644</td>\n",
              "      <td>644</td>\n",
              "      <td>644</td>\n",
              "      <td>644</td>\n",
              "      <td>644</td>\n",
              "      <td>644</td>\n",
              "      <td>644</td>\n",
              "    </tr>\n",
              "  </tbody>\n",
              "</table>\n",
              "</div>\n",
              "      <button class=\"colab-df-convert\" onclick=\"convertToInteractive('df-358a25d6-aa19-476f-821f-5b7504f16f3d')\"\n",
              "              title=\"Convert this dataframe to an interactive table.\"\n",
              "              style=\"display:none;\">\n",
              "        \n",
              "  <svg xmlns=\"http://www.w3.org/2000/svg\" height=\"24px\"viewBox=\"0 0 24 24\"\n",
              "       width=\"24px\">\n",
              "    <path d=\"M0 0h24v24H0V0z\" fill=\"none\"/>\n",
              "    <path d=\"M18.56 5.44l.94 2.06.94-2.06 2.06-.94-2.06-.94-.94-2.06-.94 2.06-2.06.94zm-11 1L8.5 8.5l.94-2.06 2.06-.94-2.06-.94L8.5 2.5l-.94 2.06-2.06.94zm10 10l.94 2.06.94-2.06 2.06-.94-2.06-.94-.94-2.06-.94 2.06-2.06.94z\"/><path d=\"M17.41 7.96l-1.37-1.37c-.4-.4-.92-.59-1.43-.59-.52 0-1.04.2-1.43.59L10.3 9.45l-7.72 7.72c-.78.78-.78 2.05 0 2.83L4 21.41c.39.39.9.59 1.41.59.51 0 1.02-.2 1.41-.59l7.78-7.78 2.81-2.81c.8-.78.8-2.07 0-2.86zM5.41 20L4 18.59l7.72-7.72 1.47 1.35L5.41 20z\"/>\n",
              "  </svg>\n",
              "      </button>\n",
              "      \n",
              "  <style>\n",
              "    .colab-df-container {\n",
              "      display:flex;\n",
              "      flex-wrap:wrap;\n",
              "      gap: 12px;\n",
              "    }\n",
              "\n",
              "    .colab-df-convert {\n",
              "      background-color: #E8F0FE;\n",
              "      border: none;\n",
              "      border-radius: 50%;\n",
              "      cursor: pointer;\n",
              "      display: none;\n",
              "      fill: #1967D2;\n",
              "      height: 32px;\n",
              "      padding: 0 0 0 0;\n",
              "      width: 32px;\n",
              "    }\n",
              "\n",
              "    .colab-df-convert:hover {\n",
              "      background-color: #E2EBFA;\n",
              "      box-shadow: 0px 1px 2px rgba(60, 64, 67, 0.3), 0px 1px 3px 1px rgba(60, 64, 67, 0.15);\n",
              "      fill: #174EA6;\n",
              "    }\n",
              "\n",
              "    [theme=dark] .colab-df-convert {\n",
              "      background-color: #3B4455;\n",
              "      fill: #D2E3FC;\n",
              "    }\n",
              "\n",
              "    [theme=dark] .colab-df-convert:hover {\n",
              "      background-color: #434B5C;\n",
              "      box-shadow: 0px 1px 3px 1px rgba(0, 0, 0, 0.15);\n",
              "      filter: drop-shadow(0px 1px 2px rgba(0, 0, 0, 0.3));\n",
              "      fill: #FFFFFF;\n",
              "    }\n",
              "  </style>\n",
              "\n",
              "      <script>\n",
              "        const buttonEl =\n",
              "          document.querySelector('#df-358a25d6-aa19-476f-821f-5b7504f16f3d button.colab-df-convert');\n",
              "        buttonEl.style.display =\n",
              "          google.colab.kernel.accessAllowed ? 'block' : 'none';\n",
              "\n",
              "        async function convertToInteractive(key) {\n",
              "          const element = document.querySelector('#df-358a25d6-aa19-476f-821f-5b7504f16f3d');\n",
              "          const dataTable =\n",
              "            await google.colab.kernel.invokeFunction('convertToInteractive',\n",
              "                                                     [key], {});\n",
              "          if (!dataTable) return;\n",
              "\n",
              "          const docLinkHtml = 'Like what you see? Visit the ' +\n",
              "            '<a target=\"_blank\" href=https://colab.research.google.com/notebooks/data_table.ipynb>data table notebook</a>'\n",
              "            + ' to learn more about interactive tables.';\n",
              "          element.innerHTML = '';\n",
              "          dataTable['output_type'] = 'display_data';\n",
              "          await google.colab.output.renderOutput(dataTable, element);\n",
              "          const docLink = document.createElement('div');\n",
              "          docLink.innerHTML = docLinkHtml;\n",
              "          element.appendChild(docLink);\n",
              "        }\n",
              "      </script>\n",
              "    </div>\n",
              "  </div>\n",
              "  "
            ]
          },
          "metadata": {},
          "execution_count": 32
        }
      ]
    },
    {
      "cell_type": "code",
      "source": [
        "from sklearn.neighbors import KNeighborsClassifier\n",
        "error = []\n",
        "for i in range(1, 40):  \n",
        "    knn = KNeighborsClassifier(n_neighbors=i)\n",
        "    knn.fit(x_train, y_train)\n",
        "    pred_i = knn.predict(x_test)\n",
        "    error.append(np.mean(pred_i != y_test))\n",
        "    \n",
        "plt.figure(figsize=(12, 6))  \n",
        "plt.plot(range(1, 40), error, color='red', linestyle='dashed', marker='o',markerfacecolor='blue', markersize=10)\n",
        "plt.title('Error Rate K Value')  \n",
        "plt.xlabel('K Value')  \n",
        "plt.ylabel('Mean Error')  "
      ],
      "metadata": {
        "colab": {
          "base_uri": "https://localhost:8080/",
          "height": 421
        },
        "id": "l8GsV36az5V3",
        "outputId": "eb3cbfdf-9727-4df0-808e-ceaf0e250793"
      },
      "execution_count": 33,
      "outputs": [
        {
          "output_type": "execute_result",
          "data": {
            "text/plain": [
              "Text(0, 0.5, 'Mean Error')"
            ]
          },
          "metadata": {},
          "execution_count": 33
        },
        {
          "output_type": "display_data",
          "data": {
            "text/plain": [
              "<Figure size 864x432 with 1 Axes>"
            ],
            "image/png": "[encoded data removed]"
          },
          "metadata": {
            "needs_background": "light"
          }
        }
      ]
    },
    {
      "cell_type": "code",
      "source": [
        "from sklearn.model_selection import cross_val_score\n",
        "knn =  KNeighborsClassifier(n_neighbors=2).fit(x_train,y_train)\n",
        "cv_scores = cross_val_score(knn, x, y, cv=10)\n",
        "\n",
        "print(cv_scores)\n",
        "print(\"\\nCross Validation Scores mean:{}\".format(np.mean(cv_scores)))"
      ],
      "metadata": {
        "colab": {
          "base_uri": "https://localhost:8080/"
        },
        "id": "edKvBEMT1nRC",
        "outputId": "e6c13461-9fda-4c88-89e6-b7584cf27b1e"
      },
      "execution_count": 34,
      "outputs": [
        {
          "output_type": "stream",
          "name": "stdout",
          "text": [
            "[0.83018868 0.84669811 0.8254717  0.83726415 0.84433962 0.84669811\n",
            " 0.83018868 0.83254717 0.83490566 0.83726415]\n",
            "\n",
            "Cross Validation Scores mean:0.836556603773585\n"
          ]
        }
      ]
    },
    {
      "cell_type": "markdown",
      "source": [
        "CNN Model"
      ],
      "metadata": {
        "id": "SeyqZeoP10EU"
      }
    },
    {
      "cell_type": "code",
      "source": [
        "import keras\n",
        "from keras.models import Sequential\n",
        "from keras.layers import Dense\n",
        "print(keras.__version__)"
      ],
      "metadata": {
        "colab": {
          "base_uri": "https://localhost:8080/"
        },
        "id": "RKlh8XOF11a_",
        "outputId": "d74fa004-3220-438a-ea6c-9e216fb83240"
      },
      "execution_count": 35,
      "outputs": [
        {
          "output_type": "stream",
          "name": "stdout",
          "text": [
            "2.8.0\n"
          ]
        }
      ]
    },
    {
      "cell_type": "code",
      "source": [
        "clf = Sequential()"
      ],
      "metadata": {
        "id": "RTuG5pdq16K9"
      },
      "execution_count": 36,
      "outputs": []
    },
    {
      "cell_type": "code",
      "source": [
        "clf.add(Dense(units = 12, kernel_initializer=\"glorot_uniform\", activation = 'relu', input_dim = x_train.shape[1]))\n",
        "clf.add(Dense(units = 8,kernel_initializer=\"glorot_uniform\", activation = 'relu'))\n",
        "clf.add(Dense(units = 1, kernel_initializer=\"glorot_uniform\", activation = 'sigmoid'))"
      ],
      "metadata": {
        "id": "aG1KGi3K180F"
      },
      "execution_count": 37,
      "outputs": []
    },
    {
      "cell_type": "code",
      "source": [
        "clf.compile(optimizer = 'adam', loss = 'binary_crossentropy', metrics = ['accuracy'])"
      ],
      "metadata": {
        "id": "8LdcRhiY3SX2"
      },
      "execution_count": 38,
      "outputs": []
    },
    {
      "cell_type": "code",
      "source": [
        "clf.fit(x_train,y_train, batch_size = 20,epochs = 100)"
      ],
      "metadata": {
        "colab": {
          "base_uri": "https://localhost:8080/"
        },
        "id": "wGPKHC2T3cHS",
        "outputId": "b6190ee4-0513-4c16-f894-7b60e470ba1f"
      },
      "execution_count": 39,
      "outputs": [
        {
          "output_type": "stream",
          "name": "stdout",
          "text": [
            "Epoch 1/100\n",
            "149/149 [==============================] - 2s 6ms/step - loss: 0.5005 - accuracy: 0.8514\n",
            "Epoch 2/100\n",
            "149/149 [==============================] - 1s 4ms/step - loss: 0.4422 - accuracy: 0.8514\n",
            "Epoch 3/100\n",
            "149/149 [==============================] - 1s 4ms/step - loss: 0.4255 - accuracy: 0.8514\n",
            "Epoch 4/100\n",
            "149/149 [==============================] - 1s 4ms/step - loss: 0.4124 - accuracy: 0.8514\n",
            "Epoch 5/100\n",
            "149/149 [==============================] - 1s 8ms/step - loss: 0.4015 - accuracy: 0.8514\n",
            "Epoch 6/100\n",
            "149/149 [==============================] - 1s 4ms/step - loss: 0.3959 - accuracy: 0.8514\n",
            "Epoch 7/100\n",
            "149/149 [==============================] - 1s 5ms/step - loss: 0.3930 - accuracy: 0.8514\n",
            "Epoch 8/100\n",
            "149/149 [==============================] - 1s 4ms/step - loss: 0.3899 - accuracy: 0.8514\n",
            "Epoch 9/100\n",
            "149/149 [==============================] - 1s 4ms/step - loss: 0.3884 - accuracy: 0.8514\n",
            "Epoch 10/100\n",
            "149/149 [==============================] - 1s 5ms/step - loss: 0.3871 - accuracy: 0.8514\n",
            "Epoch 11/100\n",
            "149/149 [==============================] - 1s 4ms/step - loss: 0.3851 - accuracy: 0.8514\n",
            "Epoch 12/100\n",
            "149/149 [==============================] - 1s 5ms/step - loss: 0.3843 - accuracy: 0.8514\n",
            "Epoch 13/100\n",
            "149/149 [==============================] - 1s 4ms/step - loss: 0.3836 - accuracy: 0.8514\n",
            "Epoch 14/100\n",
            "149/149 [==============================] - 1s 4ms/step - loss: 0.3827 - accuracy: 0.8514\n",
            "Epoch 15/100\n",
            "149/149 [==============================] - 1s 3ms/step - loss: 0.3821 - accuracy: 0.8514\n",
            "Epoch 16/100\n",
            "149/149 [==============================] - 1s 3ms/step - loss: 0.3806 - accuracy: 0.8514\n",
            "Epoch 17/100\n",
            "149/149 [==============================] - 1s 4ms/step - loss: 0.3799 - accuracy: 0.8514\n",
            "Epoch 18/100\n",
            "149/149 [==============================] - 1s 5ms/step - loss: 0.3803 - accuracy: 0.8514\n",
            "Epoch 19/100\n",
            "149/149 [==============================] - 1s 4ms/step - loss: 0.3791 - accuracy: 0.8514\n",
            "Epoch 20/100\n",
            "149/149 [==============================] - 1s 7ms/step - loss: 0.3783 - accuracy: 0.8514\n",
            "Epoch 21/100\n",
            "149/149 [==============================] - 1s 6ms/step - loss: 0.3772 - accuracy: 0.8514\n",
            "Epoch 22/100\n",
            "149/149 [==============================] - 1s 7ms/step - loss: 0.3770 - accuracy: 0.8514\n",
            "Epoch 23/100\n",
            "149/149 [==============================] - 1s 7ms/step - loss: 0.3765 - accuracy: 0.8514\n",
            "Epoch 24/100\n",
            "149/149 [==============================] - 1s 6ms/step - loss: 0.3759 - accuracy: 0.8514\n",
            "Epoch 25/100\n",
            "149/149 [==============================] - 1s 6ms/step - loss: 0.3755 - accuracy: 0.8514\n",
            "Epoch 26/100\n",
            "149/149 [==============================] - 1s 5ms/step - loss: 0.3772 - accuracy: 0.8514\n",
            "Epoch 27/100\n",
            "149/149 [==============================] - 1s 7ms/step - loss: 0.3751 - accuracy: 0.8514\n",
            "Epoch 28/100\n",
            "149/149 [==============================] - 1s 4ms/step - loss: 0.3750 - accuracy: 0.8518\n",
            "Epoch 29/100\n",
            "149/149 [==============================] - 0s 3ms/step - loss: 0.3742 - accuracy: 0.8514\n",
            "Epoch 30/100\n",
            "149/149 [==============================] - 0s 3ms/step - loss: 0.3739 - accuracy: 0.8518\n",
            "Epoch 31/100\n",
            "149/149 [==============================] - 0s 3ms/step - loss: 0.3735 - accuracy: 0.8518\n",
            "Epoch 32/100\n",
            "149/149 [==============================] - 0s 3ms/step - loss: 0.3731 - accuracy: 0.8518\n",
            "Epoch 33/100\n",
            "149/149 [==============================] - 1s 3ms/step - loss: 0.3734 - accuracy: 0.8521\n",
            "Epoch 34/100\n",
            "149/149 [==============================] - 1s 4ms/step - loss: 0.3725 - accuracy: 0.8521\n",
            "Epoch 35/100\n",
            "149/149 [==============================] - 1s 5ms/step - loss: 0.3722 - accuracy: 0.8518\n",
            "Epoch 36/100\n",
            "149/149 [==============================] - 1s 4ms/step - loss: 0.3734 - accuracy: 0.8521\n",
            "Epoch 37/100\n",
            "149/149 [==============================] - 1s 4ms/step - loss: 0.3717 - accuracy: 0.8521\n",
            "Epoch 38/100\n",
            "149/149 [==============================] - 1s 4ms/step - loss: 0.3721 - accuracy: 0.8524\n",
            "Epoch 39/100\n",
            "149/149 [==============================] - 1s 4ms/step - loss: 0.3718 - accuracy: 0.8521\n",
            "Epoch 40/100\n",
            "149/149 [==============================] - 1s 5ms/step - loss: 0.3718 - accuracy: 0.8521\n",
            "Epoch 41/100\n",
            "149/149 [==============================] - 1s 5ms/step - loss: 0.3713 - accuracy: 0.8521\n",
            "Epoch 42/100\n",
            "149/149 [==============================] - 1s 4ms/step - loss: 0.3707 - accuracy: 0.8524\n",
            "Epoch 43/100\n",
            "149/149 [==============================] - 1s 4ms/step - loss: 0.3713 - accuracy: 0.8521\n",
            "Epoch 44/100\n",
            "149/149 [==============================] - 1s 4ms/step - loss: 0.3704 - accuracy: 0.8521\n",
            "Epoch 45/100\n",
            "149/149 [==============================] - 1s 4ms/step - loss: 0.3702 - accuracy: 0.8524\n",
            "Epoch 46/100\n",
            "149/149 [==============================] - 1s 4ms/step - loss: 0.3701 - accuracy: 0.8521\n",
            "Epoch 47/100\n",
            "149/149 [==============================] - 1s 4ms/step - loss: 0.3699 - accuracy: 0.8524\n",
            "Epoch 48/100\n",
            "149/149 [==============================] - 1s 4ms/step - loss: 0.3702 - accuracy: 0.8521\n",
            "Epoch 49/100\n",
            "149/149 [==============================] - 1s 4ms/step - loss: 0.3701 - accuracy: 0.8524\n",
            "Epoch 50/100\n",
            "149/149 [==============================] - 1s 4ms/step - loss: 0.3698 - accuracy: 0.8521\n",
            "Epoch 51/100\n",
            "149/149 [==============================] - 1s 4ms/step - loss: 0.3687 - accuracy: 0.8521\n",
            "Epoch 52/100\n",
            "149/149 [==============================] - 1s 5ms/step - loss: 0.3698 - accuracy: 0.8521\n",
            "Epoch 53/100\n",
            "149/149 [==============================] - 1s 6ms/step - loss: 0.3698 - accuracy: 0.8521\n",
            "Epoch 54/100\n",
            "149/149 [==============================] - 1s 4ms/step - loss: 0.3691 - accuracy: 0.8524\n",
            "Epoch 55/100\n",
            "149/149 [==============================] - 1s 6ms/step - loss: 0.3683 - accuracy: 0.8521\n",
            "Epoch 56/100\n",
            "149/149 [==============================] - 1s 4ms/step - loss: 0.3684 - accuracy: 0.8521\n",
            "Epoch 57/100\n",
            "149/149 [==============================] - 1s 7ms/step - loss: 0.3677 - accuracy: 0.8521\n",
            "Epoch 58/100\n",
            "149/149 [==============================] - 1s 4ms/step - loss: 0.3680 - accuracy: 0.8528\n",
            "Epoch 59/100\n",
            "149/149 [==============================] - 1s 4ms/step - loss: 0.3681 - accuracy: 0.8528\n",
            "Epoch 60/100\n",
            "149/149 [==============================] - 1s 4ms/step - loss: 0.3670 - accuracy: 0.8551\n",
            "Epoch 61/100\n",
            "149/149 [==============================] - 1s 4ms/step - loss: 0.3668 - accuracy: 0.8561\n",
            "Epoch 62/100\n",
            "149/149 [==============================] - 1s 4ms/step - loss: 0.3675 - accuracy: 0.8551\n",
            "Epoch 63/100\n",
            "149/149 [==============================] - 1s 4ms/step - loss: 0.3673 - accuracy: 0.8555\n",
            "Epoch 64/100\n",
            "149/149 [==============================] - 0s 3ms/step - loss: 0.3675 - accuracy: 0.8558\n",
            "Epoch 65/100\n",
            "149/149 [==============================] - 1s 4ms/step - loss: 0.3669 - accuracy: 0.8561\n",
            "Epoch 66/100\n",
            "149/149 [==============================] - 1s 3ms/step - loss: 0.3668 - accuracy: 0.8565\n",
            "Epoch 67/100\n",
            "149/149 [==============================] - 0s 2ms/step - loss: 0.3668 - accuracy: 0.8558\n",
            "Epoch 68/100\n",
            "149/149 [==============================] - 0s 2ms/step - loss: 0.3670 - accuracy: 0.8568\n",
            "Epoch 69/100\n",
            "149/149 [==============================] - 0s 2ms/step - loss: 0.3662 - accuracy: 0.8578\n",
            "Epoch 70/100\n",
            "149/149 [==============================] - 0s 2ms/step - loss: 0.3667 - accuracy: 0.8551\n",
            "Epoch 71/100\n",
            "149/149 [==============================] - 0s 2ms/step - loss: 0.3666 - accuracy: 0.8582\n",
            "Epoch 72/100\n",
            "149/149 [==============================] - 0s 2ms/step - loss: 0.3659 - accuracy: 0.8575\n",
            "Epoch 73/100\n",
            "149/149 [==============================] - 0s 2ms/step - loss: 0.3662 - accuracy: 0.8575\n",
            "Epoch 74/100\n",
            "149/149 [==============================] - 0s 2ms/step - loss: 0.3658 - accuracy: 0.8558\n",
            "Epoch 75/100\n",
            "149/149 [==============================] - 0s 2ms/step - loss: 0.3658 - accuracy: 0.8585\n",
            "Epoch 76/100\n",
            "149/149 [==============================] - 0s 2ms/step - loss: 0.3659 - accuracy: 0.8578\n",
            "Epoch 77/100\n",
            "149/149 [==============================] - 0s 2ms/step - loss: 0.3662 - accuracy: 0.8578\n",
            "Epoch 78/100\n",
            "149/149 [==============================] - 0s 2ms/step - loss: 0.3651 - accuracy: 0.8561\n",
            "Epoch 79/100\n",
            "149/149 [==============================] - 0s 2ms/step - loss: 0.3660 - accuracy: 0.8575\n",
            "Epoch 80/100\n",
            "149/149 [==============================] - 0s 2ms/step - loss: 0.3653 - accuracy: 0.8575\n",
            "Epoch 81/100\n",
            "149/149 [==============================] - 0s 2ms/step - loss: 0.3647 - accuracy: 0.8585\n",
            "Epoch 82/100\n",
            "149/149 [==============================] - 0s 2ms/step - loss: 0.3649 - accuracy: 0.8568\n",
            "Epoch 83/100\n",
            "149/149 [==============================] - 0s 2ms/step - loss: 0.3645 - accuracy: 0.8571\n",
            "Epoch 84/100\n",
            "149/149 [==============================] - 0s 2ms/step - loss: 0.3649 - accuracy: 0.8571\n",
            "Epoch 85/100\n",
            "149/149 [==============================] - 0s 2ms/step - loss: 0.3644 - accuracy: 0.8582\n",
            "Epoch 86/100\n",
            "149/149 [==============================] - 0s 2ms/step - loss: 0.3642 - accuracy: 0.8582\n",
            "Epoch 87/100\n",
            "149/149 [==============================] - 0s 2ms/step - loss: 0.3643 - accuracy: 0.8585\n",
            "Epoch 88/100\n",
            "149/149 [==============================] - 0s 2ms/step - loss: 0.3637 - accuracy: 0.8571\n",
            "Epoch 89/100\n",
            "149/149 [==============================] - 0s 2ms/step - loss: 0.3637 - accuracy: 0.8568\n",
            "Epoch 90/100\n",
            "149/149 [==============================] - 0s 2ms/step - loss: 0.3636 - accuracy: 0.8575\n",
            "Epoch 91/100\n",
            "149/149 [==============================] - 0s 2ms/step - loss: 0.3632 - accuracy: 0.8582\n",
            "Epoch 92/100\n",
            "149/149 [==============================] - 0s 2ms/step - loss: 0.3632 - accuracy: 0.8582\n",
            "Epoch 93/100\n",
            "149/149 [==============================] - 0s 2ms/step - loss: 0.3626 - accuracy: 0.8588\n",
            "Epoch 94/100\n",
            "149/149 [==============================] - 0s 2ms/step - loss: 0.3641 - accuracy: 0.8578\n",
            "Epoch 95/100\n",
            "149/149 [==============================] - 0s 2ms/step - loss: 0.3634 - accuracy: 0.8575\n",
            "Epoch 96/100\n",
            "149/149 [==============================] - 0s 2ms/step - loss: 0.3641 - accuracy: 0.8588\n",
            "Epoch 97/100\n",
            "149/149 [==============================] - 0s 2ms/step - loss: 0.3629 - accuracy: 0.8582\n",
            "Epoch 98/100\n",
            "149/149 [==============================] - 0s 2ms/step - loss: 0.3629 - accuracy: 0.8575\n",
            "Epoch 99/100\n",
            "149/149 [==============================] - 0s 2ms/step - loss: 0.3622 - accuracy: 0.8585\n",
            "Epoch 100/100\n",
            "149/149 [==============================] - 0s 2ms/step - loss: 0.3618 - accuracy: 0.8582\n"
          ]
        },
        {
          "output_type": "execute_result",
          "data": {
            "text/plain": [
              "<keras.callbacks.History at 0x7f71e8749d50>"
            ]
          },
          "metadata": {},
          "execution_count": 39
        }
      ]
    },
    {
      "cell_type": "code",
      "source": [
        "clf.evaluate(x_train,y_train)"
      ],
      "metadata": {
        "colab": {
          "base_uri": "https://localhost:8080/"
        },
        "id": "TNAiWhdd4uQE",
        "outputId": "60d8f9e1-fe71-4403-e822-7629e97b5eec"
      },
      "execution_count": 40,
      "outputs": [
        {
          "output_type": "stream",
          "name": "stdout",
          "text": [
            "93/93 [==============================] - 0s 1ms/step - loss: 0.3602 - accuracy: 0.8578\n"
          ]
        },
        {
          "output_type": "execute_result",
          "data": {
            "text/plain": [
              "[0.36018428206443787, 0.8578166961669922]"
            ]
          },
          "metadata": {},
          "execution_count": 40
        }
      ]
    },
    {
      "cell_type": "code",
      "source": [
        "clf.evaluate(x_test,y_test)"
      ],
      "metadata": {
        "colab": {
          "base_uri": "https://localhost:8080/"
        },
        "id": "73H1sSK441Kb",
        "outputId": "2464a595-f6e7-4492-a315-736b601d01a1"
      },
      "execution_count": 41,
      "outputs": [
        {
          "output_type": "stream",
          "name": "stdout",
          "text": [
            "40/40 [==============================] - 0s 2ms/step - loss: 0.4109 - accuracy: 0.8341\n"
          ]
        },
        {
          "output_type": "execute_result",
          "data": {
            "text/plain": [
              "[0.4108662009239197, 0.8341194987297058]"
            ]
          },
          "metadata": {},
          "execution_count": 41
        }
      ]
    },
    {
      "cell_type": "code",
      "source": [
        "ypred = clf.predict(x_test)\n",
        "ypred = (ypred > 0.5)\n",
        "print('The Accuracy is:',accuracy_score(y_test,ypred))\n"
      ],
      "metadata": {
        "colab": {
          "base_uri": "https://localhost:8080/"
        },
        "id": "u6UQ194o4Gj-",
        "outputId": "36098a14-895e-4119-ef22-e525dcbae71a"
      },
      "execution_count": 43,
      "outputs": [
        {
          "output_type": "stream",
          "name": "stdout",
          "text": [
            "The Accuracy is: 0.8341194968553459\n"
          ]
        }
      ]
    },
    {
      "cell_type": "markdown",
      "source": [
        "Conclusion\n",
        "\n",
        "The best Accuracy of all Logistic Regression, Knn and CNN model is almost same..."
      ],
      "metadata": {
        "id": "-UNIaCCG4YY-"
      }
    }
  ]
}